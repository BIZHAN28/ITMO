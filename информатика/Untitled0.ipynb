{
  "cells": [
    {
      "cell_type": "code",
      "execution_count": 2,
      "metadata": {
        "colab": {
          "base_uri": "https://localhost:8080/"
        },
        "id": "UGWVg_yJ0kIn",
        "outputId": "0cab05d2-74a4-44b9-fc70-4afa24055154"
      },
      "outputs": [
        {
          "name": "stdout",
          "output_type": "stream",
          "text": [
            "введите строку:\n",
            "ответ:\n",
            "0\n"
          ]
        }
      ],
      "source": [
        "import re\n",
        "def smile(string):\n",
        "\treg = r';<{/'\n",
        "\tr = re.compile(reg)\n",
        "\ts = r.findall(string)\n",
        "\tprint(len(s))\n",
        "print(\"введите строку:\")\n",
        "a = input()\n",
        "print(\"ответ:\")\n",
        "smile(a)\n"
      ]
    },
    {
      "cell_type": "code",
      "execution_count": null,
      "metadata": {
        "colab": {
          "base_uri": "https://localhost:8080/"
        },
        "id": "NNVvc0bU0k_b",
        "outputId": "5e045710-e4bd-48d8-a08d-0cd069cbea4f"
      },
      "outputs": [
        {
          "name": "stdout",
          "output_type": "stream",
          "text": [
            "введите строку:\n",
            "scaacascas\n",
            "ответ:\n",
            "scaacascas\n"
          ]
        }
      ],
      "source": [
        "import re\n",
        "def repeat(a):\n",
        "\treg = r\"(\\w{1,})\\s{1,}\\1\\b\"\n",
        "\tr = re.compile(reg)\n",
        "\tprint(r.sub(r\"\\1\",a))\n",
        " \n",
        "print(\"введите строку:\")\n",
        "a = input()\n",
        "print(\"ответ:\")\n",
        "repeat(a)\n"
      ]
    },
    {
      "cell_type": "code",
      "execution_count": 3,
      "metadata": {
        "colab": {
          "base_uri": "https://localhost:8080/"
        },
        "id": "ZOTEENzx0yBr",
        "outputId": "2d79c253-7a2d-4934-abb6-6b3154829d93"
      },
      "outputs": [
        {
          "name": "stdout",
          "output_type": "stream",
          "text": [
            "Введите строку:\n",
            "Введите 3 буквы через пробел:\n",
            "Введите расстояние:\n",
            "Таких слов нет\n"
          ]
        }
      ],
      "source": [
        "import re\n",
        "def sequence(s,a,b,c,r): #s - входная строка; a,b,c - буквы; r - расстояние\n",
        "\treg = r\"\\b\" + a + rf\"[^{a}^{b}^{c}]\"*r + b + rf\"[^{a}^{b}^{c}]\"*r + c + r\"\\b\"\n",
        "\tr = re.compile(reg,re.IGNORECASE)\n",
        "\tv = r.findall(s)\n",
        "\tif len(re.findall(r\"[а-я]\",a+b+c,re.IGNORECASE)) != 3:\n",
        "\t    print(\"Вы ввели не буквы\")\n",
        "\telif len(a) != 1 or len(b) != 1 or len(c) != 1:\n",
        "\t\tprint(\"Буквы должны состоять из одного символа!\")\n",
        "\telif len(v) == 0:\n",
        "\t\tprint(\"Таких слов нет\")\n",
        "\telse:\n",
        "\t\tprint(\"Заданная вами последовательность встречается в следующих словах:\")\n",
        "\t\tfor i in v:\n",
        "\t\t\tprint(i)\n",
        "\n",
        "print(\"Введите строку:\")\n",
        "s = input()\n",
        "print(\"Введите 3 буквы через пробел:\")\n",
        "a,b,c = input().split()\n",
        "print(\"Введите расстояние:\")\n",
        "r = int(input())\n",
        "sequence(s,a,b,c,r)"
      ]
    }
  ],
  "metadata": {
    "colab": {
      "collapsed_sections": [],
      "provenance": []
    },
    "kernelspec": {
      "display_name": "Python 3.9.1 64-bit",
      "language": "python",
      "name": "python3"
    },
    "language_info": {
      "codemirror_mode": {
        "name": "ipython",
        "version": 3
      },
      "file_extension": ".py",
      "mimetype": "text/x-python",
      "name": "python",
      "nbconvert_exporter": "python",
      "pygments_lexer": "ipython3",
      "version": "3.9.1"
    },
    "vscode": {
      "interpreter": {
        "hash": "06627ec7a50f88fb2d903dd007cdb03cc64a5b99d217d6a407fa0464ccdc9f95"
      }
    }
  },
  "nbformat": 4,
  "nbformat_minor": 0
}
